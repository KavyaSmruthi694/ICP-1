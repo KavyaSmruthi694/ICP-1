{
  "nbformat": 4,
  "nbformat_minor": 0,
  "metadata": {
    "colab": {
      "provenance": [],
      "authorship_tag": "ABX9TyOSa0QrPdfRoPs/g0yFjJlb",
      "include_colab_link": true
    },
    "kernelspec": {
      "name": "python3",
      "display_name": "Python 3"
    },
    "language_info": {
      "name": "python"
    }
  },
  "cells": [
    {
      "cell_type": "markdown",
      "metadata": {
        "id": "view-in-github",
        "colab_type": "text"
      },
      "source": [
        "<a href=\"https://colab.research.google.com/github/KavyaSmruthi694/ICP-1/blob/main/Assignment_3.ipynb\" target=\"_parent\"><img src=\"https://colab.research.google.com/assets/colab-badge.svg\" alt=\"Open In Colab\"/></a>"
      ]
    },
    {
      "cell_type": "code",
      "execution_count": 12,
      "metadata": {
        "colab": {
          "base_uri": "https://localhost:8080/"
        },
        "id": "MsJF4zMZ1ojK",
        "outputId": "89310784-5140-498c-d35a-52e4ae449b8f"
      },
      "outputs": [
        {
          "output_type": "stream",
          "name": "stdout",
          "text": [
            "Shape of the matrix: (3, 5)\n",
            "Modified matrix:\n",
            " [[12  3  0  3  2]\n",
            " [ 0  8 14 20 19]\n",
            " [ 8 15 15  9  0]]\n"
          ]
        }
      ],
      "source": [
        "import numpy as np\n",
        "\n",
        "random_vector = np.random.randint(1, 21, size=15)\n",
        "\n",
        "# Step 1: Reshaping the array to 3 by 5\n",
        "matrix = random_vector.reshape(3, 5)\n",
        "\n",
        "# Step 2: Printing the shape of the array\n",
        "print(\"Shape of the matrix:\", matrix.shape)\n",
        "\n",
        "# Step 3: Replacing the max in each row with 0\n",
        "for row_index in range(matrix.shape[0]):\n",
        "    max_pos = np.argmax(matrix[row_index])\n",
        "    matrix[row_index, max_pos] = 0\n",
        "print(\"Modified matrix:\\n\", matrix)\n"
      ]
    },
    {
      "cell_type": "code",
      "source": [
        "import numpy as np\n",
        "\n",
        "# Creating a 4x3 array with random integers and 4-byte integer type\n",
        "matrix_4x3 = np.random.randint(10, 100, size=(4, 3), dtype=np.int32)\n",
        "\n",
        "# Printing shape, type, and data type\n",
        "print(\"Matrix shape:\", matrix_4x3.shape)\n",
        "print(\"Matrix type:\", type(matrix_4x3))\n",
        "print(\"Element data type:\", matrix_4x3.dtype)\n"
      ],
      "metadata": {
        "colab": {
          "base_uri": "https://localhost:8080/"
        },
        "id": "67XYRePU5vZx",
        "outputId": "3cb00fc0-34ef-4189-b90f-2021d697d705"
      },
      "execution_count": 13,
      "outputs": [
        {
          "output_type": "stream",
          "name": "stdout",
          "text": [
            "Matrix shape: (4, 3)\n",
            "Matrix type: <class 'numpy.ndarray'>\n",
            "Element data type: int32\n"
          ]
        }
      ]
    },
    {
      "cell_type": "code",
      "source": [
        "import numpy as np\n",
        "\n",
        "matrix = np.array([[3, -2],\n",
        "                   [1,  0]])\n",
        "eigen_vals, eigen_vecs = np.linalg.eig(matrix)\n",
        "print(\"Input Matrix:\")\n",
        "print(matrix)\n",
        "print(\"\\nEigenvalues of the matrix:\")\n",
        "for i, val in enumerate(eigen_vals):\n",
        "    print(f\"λ{i+1} = {val:.4f}\")\n",
        "print(\"\\nRight Eigenvectors (each column corresponds to an eigenvalue):\")\n",
        "for i in range(eigen_vecs.shape[1]):\n",
        "    print(f\"Eigenvector {i+1} (for λ{i+1}): {eigen_vecs[:, i]}\")\n",
        "\n"
      ],
      "metadata": {
        "colab": {
          "base_uri": "https://localhost:8080/"
        },
        "id": "I0uFmPET6tfY",
        "outputId": "422707d6-2cb7-455d-c081-8cb96e21a5b0"
      },
      "execution_count": 16,
      "outputs": [
        {
          "output_type": "stream",
          "name": "stdout",
          "text": [
            "Input Matrix:\n",
            "[[ 3 -2]\n",
            " [ 1  0]]\n",
            "\n",
            "Eigenvalues of the matrix:\n",
            "λ1 = 2.0000\n",
            "λ2 = 1.0000\n",
            "\n",
            "Right Eigenvectors (each column corresponds to an eigenvalue):\n",
            "Eigenvector 1 (for λ1): [0.89442719 0.4472136 ]\n",
            "Eigenvector 2 (for λ2): [0.70710678 0.70710678]\n"
          ]
        }
      ]
    },
    {
      "cell_type": "code",
      "source": [
        "import numpy as np\n",
        "array = np.array([[0, 1, 2],\n",
        "                  [3, 4, 5]])\n",
        "diagonal_elements = np.diag(array)\n",
        "diagonal_sum = np.sum(diagonal_elements)\n",
        "print(\"Array:\")\n",
        "print(array)\n",
        "print(\"\\nDiagonal elements:\", diagonal_elements)\n",
        "print(\"Sum of diagonal elements:\", diagonal_sum)\n"
      ],
      "metadata": {
        "colab": {
          "base_uri": "https://localhost:8080/"
        },
        "id": "kUdNaca-7WZD",
        "outputId": "ca187c07-f8d9-4f41-bd77-8db5a9d7c90e"
      },
      "execution_count": 17,
      "outputs": [
        {
          "output_type": "stream",
          "name": "stdout",
          "text": [
            "Array:\n",
            "[[0 1 2]\n",
            " [3 4 5]]\n",
            "\n",
            "Diagonal elements: [0 4]\n",
            "Sum of diagonal elements: 4\n"
          ]
        }
      ]
    },
    {
      "cell_type": "code",
      "source": [
        "import numpy as np\n",
        "original_array = np.array([[1, 2],\n",
        "                           [3, 4],\n",
        "                           [5, 6]])\n",
        "print(\"Original Array:\")\n",
        "print(original_array)\n",
        "print(\"Shape:\", original_array.shape)\n",
        "new_shape = (2, 3)\n",
        "reshaped_array = original_array.reshape(new_shape)\n",
        "print(\"\\nReshaped Array:\")\n",
        "print(reshaped_array)\n",
        "print(\"New Shape:\", reshaped_array.shape)\n"
      ],
      "metadata": {
        "colab": {
          "base_uri": "https://localhost:8080/"
        },
        "id": "sCNiWg3V7h0R",
        "outputId": "6eb09d97-8d5c-4153-8602-7f6ed4161227"
      },
      "execution_count": 20,
      "outputs": [
        {
          "output_type": "stream",
          "name": "stdout",
          "text": [
            "Original Array:\n",
            "[[1 2]\n",
            " [3 4]\n",
            " [5 6]]\n",
            "Shape: (3, 2)\n",
            "\n",
            "Reshaped Array:\n",
            "[[1 2 3]\n",
            " [4 5 6]]\n",
            "New Shape: (2, 3)\n"
          ]
        }
      ]
    }
  ]
}