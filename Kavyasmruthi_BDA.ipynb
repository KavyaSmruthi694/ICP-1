{
  "nbformat": 4,
  "nbformat_minor": 0,
  "metadata": {
    "colab": {
      "provenance": [],
      "authorship_tag": "ABX9TyOBaFtYJH760R6Foc+tHqWD",
      "include_colab_link": true
    },
    "kernelspec": {
      "name": "python3",
      "display_name": "Python 3"
    },
    "language_info": {
      "name": "python"
    }
  },
  "cells": [
    {
      "cell_type": "markdown",
      "metadata": {
        "id": "view-in-github",
        "colab_type": "text"
      },
      "source": [
        "<a href=\"https://colab.research.google.com/github/KavyaSmruthi694/ICP-1/blob/main/Kavyasmruthi_BDA.ipynb\" target=\"_parent\"><img src=\"https://colab.research.google.com/assets/colab-badge.svg\" alt=\"Open In Colab\"/></a>"
      ]
    },
    {
      "cell_type": "code",
      "execution_count": 1,
      "metadata": {
        "colab": {
          "base_uri": "https://localhost:8080/"
        },
        "id": "T38cvnac1a52",
        "outputId": "6fd35a10-886a-41a4-ef91-439e24e87276"
      },
      "outputs": [
        {
          "output_type": "stream",
          "name": "stdout",
          "text": [
            "python\n",
            "htyp\n"
          ]
        }
      ],
      "source": [
        "s=input()\n",
        "s=s[:4] # removing 2 letters\n",
        "print(s[::-1]) # reversing the string"
      ]
    },
    {
      "cell_type": "code",
      "source": [
        "i=input()\n",
        "print(i.replace(\"python\",\"pythons\")) # replace 1st string with the 2nd one"
      ],
      "metadata": {
        "colab": {
          "base_uri": "https://localhost:8080/"
        },
        "id": "PQ_nNMTC1tPO",
        "outputId": "d8488b69-2cb9-48c3-a724-f89ac3ed028d"
      },
      "execution_count": 2,
      "outputs": [
        {
          "output_type": "stream",
          "name": "stdout",
          "text": [
            "i love python\n",
            "i love pythons\n"
          ]
        }
      ]
    },
    {
      "cell_type": "code",
      "source": [
        "m=int(input())\n",
        "if m>=90:\n",
        "  g='A'\n",
        "elif m>=80:\n",
        "  g='B'\n",
        "elif m>=70:\n",
        "  g='C'\n",
        "elif m>=60:\n",
        "  g='D'\n",
        "else:\n",
        "  g='F'\n",
        "print(g)"
      ],
      "metadata": {
        "colab": {
          "base_uri": "https://localhost:8080/"
        },
        "id": "2zSj92Sd1-A1",
        "outputId": "ed908f38-6ac8-47a6-e45d-f8d5d63cd4eb"
      },
      "execution_count": 4,
      "outputs": [
        {
          "output_type": "stream",
          "name": "stdout",
          "text": [
            "85\n",
            "B\n"
          ]
        }
      ]
    },
    {
      "cell_type": "code",
      "source": [
        "x=[23,'python',23.98]\n",
        "print([type(y) for y in x]) # this works as a for loop and iterates every item and shows its type"
      ],
      "metadata": {
        "colab": {
          "base_uri": "https://localhost:8080/"
        },
        "id": "K-_m-YIC2Qxq",
        "outputId": "00bf16f4-2c38-4cfc-8bb6-a4009f5c2764"
      },
      "execution_count": 5,
      "outputs": [
        {
          "output_type": "stream",
          "name": "stdout",
          "text": [
            "[<class 'int'>, <class 'str'>, <class 'float'>]\n"
          ]
        }
      ]
    },
    {
      "cell_type": "code",
      "source": [
        "IT_companies = {'Facebook', 'Google', 'Microsoft', 'Apple', 'IBM', 'Oracle', 'Amazon'}\n",
        "A = {19, 22, 24, 20, 25, 26}\n",
        "B = {19, 22, 20, 25, 26, 24, 28, 27}\n",
        "age = [22, 19, 24, 25, 26, 24, 25, 24]\n",
        "\n",
        "len(IT_companies) # length of the set\n",
        "\n",
        "IT_companies.add('Twitter') # add twitter to the set\n",
        "print(IT_companies)\n",
        "\n",
        "IT_companies = IT_companies|{'TCS','Accenture'}\n",
        "print(IT_companies)\n",
        "\n",
        "IT_companies.remove('TCS')\n",
        "print(IT_companies)"
      ],
      "metadata": {
        "colab": {
          "base_uri": "https://localhost:8080/"
        },
        "id": "Uqqm5HNp2oyN",
        "outputId": "f2a1d5ce-8868-4560-a559-1865f4710f8c"
      },
      "execution_count": 9,
      "outputs": [
        {
          "output_type": "stream",
          "name": "stdout",
          "text": [
            "{'Facebook', 'Amazon', 'Oracle', 'Google', 'IBM', 'Apple', 'Twitter', 'Microsoft'}\n",
            "{'Amazon', 'Accenture', 'Twitter', 'Microsoft', 'Facebook', 'Oracle', 'Google', 'IBM', 'Apple', 'TCS'}\n",
            "{'Amazon', 'Accenture', 'Twitter', 'Microsoft', 'Facebook', 'Oracle', 'Google', 'IBM', 'Apple'}\n"
          ]
        }
      ]
    },
    {
      "cell_type": "markdown",
      "source": [
        "The remove method will give a keyword error if there is no item present in the set, the discard item wont give an error"
      ],
      "metadata": {
        "id": "pggo97dV3Z3C"
      }
    },
    {
      "cell_type": "code",
      "source": [
        "Join =A|B # I is same as union or join\n",
        "print(Join)"
      ],
      "metadata": {
        "colab": {
          "base_uri": "https://localhost:8080/"
        },
        "id": "udDrljS23m-Q",
        "outputId": "dcc7c427-58f8-413b-d53e-70ce60c6d5e5"
      },
      "execution_count": 10,
      "outputs": [
        {
          "output_type": "stream",
          "name": "stdout",
          "text": [
            "{19, 20, 22, 24, 25, 26, 27, 28}\n"
          ]
        }
      ]
    },
    {
      "cell_type": "code",
      "source": [
        "intersection = A&B\n",
        "print(intersection)"
      ],
      "metadata": {
        "colab": {
          "base_uri": "https://localhost:8080/"
        },
        "id": "uapYjpEB3w-1",
        "outputId": "b2726edd-848e-4ffa-ac08-dd53cdda59fa"
      },
      "execution_count": 11,
      "outputs": [
        {
          "output_type": "stream",
          "name": "stdout",
          "text": [
            "{19, 20, 22, 24, 25, 26}\n"
          ]
        }
      ]
    },
    {
      "cell_type": "code",
      "source": [
        "print(A.issubset(B)) #to get if A is subset of B"
      ],
      "metadata": {
        "colab": {
          "base_uri": "https://localhost:8080/"
        },
        "id": "Bz7xbPFj39Ei",
        "outputId": "4de525eb-e15d-406f-dd0f-88040128bf86"
      },
      "execution_count": 12,
      "outputs": [
        {
          "output_type": "stream",
          "name": "stdout",
          "text": [
            "True\n"
          ]
        }
      ]
    },
    {
      "cell_type": "code",
      "source": [
        "print(A.isdisjoint(B)) # to get to know if A and B are disjoint"
      ],
      "metadata": {
        "colab": {
          "base_uri": "https://localhost:8080/"
        },
        "id": "9sMVHOMB4JMK",
        "outputId": "67fff3df-304d-4959-f8c3-96f9525aa185"
      },
      "execution_count": 13,
      "outputs": [
        {
          "output_type": "stream",
          "name": "stdout",
          "text": [
            "False\n"
          ]
        }
      ]
    },
    {
      "cell_type": "code",
      "source": [
        "JoinAB = A|B\n",
        "print(JoinAB)\n",
        "JoinBA = B|A\n",
        "print(JoinBA)"
      ],
      "metadata": {
        "colab": {
          "base_uri": "https://localhost:8080/"
        },
        "id": "q8AIZFHv4TkJ",
        "outputId": "9eb88922-7670-44ca-a43e-dbd9449e9ddf"
      },
      "execution_count": 14,
      "outputs": [
        {
          "output_type": "stream",
          "name": "stdout",
          "text": [
            "{19, 20, 22, 24, 25, 26, 27, 28}\n",
            "{19, 20, 22, 24, 25, 26, 27, 28}\n"
          ]
        }
      ]
    },
    {
      "cell_type": "code",
      "source": [
        "print(A.symmetric_difference(B)) # symmetric difference or you can ues ^ symbol"
      ],
      "metadata": {
        "colab": {
          "base_uri": "https://localhost:8080/"
        },
        "id": "S8Qo6HyP4Z9C",
        "outputId": "c518cda2-b611-4e8f-ebb9-6259b08fde60"
      },
      "execution_count": 15,
      "outputs": [
        {
          "output_type": "stream",
          "name": "stdout",
          "text": [
            "{27, 28}\n"
          ]
        }
      ]
    },
    {
      "cell_type": "code",
      "source": [
        "del A,B"
      ],
      "metadata": {
        "id": "OmS0CGWE4gPh"
      },
      "execution_count": 16,
      "outputs": []
    },
    {
      "cell_type": "code",
      "source": [
        "print(A,B) # throws an error"
      ],
      "metadata": {
        "colab": {
          "base_uri": "https://localhost:8080/",
          "height": 141
        },
        "id": "I7OUVo1v4lCL",
        "outputId": "ddaefd88-c64d-4a8d-bded-9c408664f2c6"
      },
      "execution_count": 17,
      "outputs": [
        {
          "output_type": "error",
          "ename": "NameError",
          "evalue": "name 'A' is not defined",
          "traceback": [
            "\u001b[0;31m---------------------------------------------------------------------------\u001b[0m",
            "\u001b[0;31mNameError\u001b[0m                                 Traceback (most recent call last)",
            "\u001b[0;32m/tmp/ipython-input-17-2013668825.py\u001b[0m in \u001b[0;36m<cell line: 0>\u001b[0;34m()\u001b[0m\n\u001b[0;32m----> 1\u001b[0;31m \u001b[0mprint\u001b[0m\u001b[0;34m(\u001b[0m\u001b[0mA\u001b[0m\u001b[0;34m,\u001b[0m\u001b[0mB\u001b[0m\u001b[0;34m)\u001b[0m\u001b[0;34m\u001b[0m\u001b[0;34m\u001b[0m\u001b[0m\n\u001b[0m",
            "\u001b[0;31mNameError\u001b[0m: name 'A' is not defined"
          ]
        }
      ]
    },
    {
      "cell_type": "code",
      "source": [
        "aset=set(age)\n",
        "print(aset)\n",
        "print(len(age)==len(aset)) # will be false as the set wont have duplicate values that the actual set might have"
      ],
      "metadata": {
        "colab": {
          "base_uri": "https://localhost:8080/"
        },
        "id": "y-vuho9E4qna",
        "outputId": "7ab895e7-a2bc-4aeb-9972-edb1194ba660"
      },
      "execution_count": 19,
      "outputs": [
        {
          "output_type": "stream",
          "name": "stdout",
          "text": [
            "{19, 22, 24, 25, 26}\n",
            "False\n"
          ]
        }
      ]
    }
  ]
}