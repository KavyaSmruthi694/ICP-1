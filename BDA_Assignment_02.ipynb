{
  "nbformat": 4,
  "nbformat_minor": 0,
  "metadata": {
    "colab": {
      "provenance": [],
      "authorship_tag": "ABX9TyOTwjjMiSNFVkj4Ue7rFvw8",
      "include_colab_link": true
    },
    "kernelspec": {
      "name": "python3",
      "display_name": "Python 3"
    },
    "language_info": {
      "name": "python"
    }
  },
  "cells": [
    {
      "cell_type": "markdown",
      "metadata": {
        "id": "view-in-github",
        "colab_type": "text"
      },
      "source": [
        "<a href=\"https://colab.research.google.com/github/KavyaSmruthi694/ICP-1/blob/main/BDA_Assignment_02.ipynb\" target=\"_parent\"><img src=\"https://colab.research.google.com/assets/colab-badge.svg\" alt=\"Open In Colab\"/></a>"
      ]
    },
    {
      "cell_type": "code",
      "source": [
        "class Counter:\n",
        "    count = 0\n",
        "\n",
        "    def __init__(self):\n",
        "        self._count = 0\n",
        "\n",
        "    def increment(self):\n",
        "        self._count += 1\n",
        "        Counter.count += 1\n",
        "\n",
        "    def get_counts(self):\n",
        "        return f\"Instance count: {self._count}, Class count: {Counter.count}\"\n",
        "\n",
        "a = Counter()\n",
        "b = Counter()\n",
        "\n",
        "a.increment()\n",
        "a.increment()\n",
        "b.increment()\n",
        "\n",
        "print(a.get_counts())\n",
        "\n",
        "print(b.get_counts())\n"
      ],
      "metadata": {
        "colab": {
          "base_uri": "https://localhost:8080/"
        },
        "id": "UqUnkARnNFcU",
        "outputId": "3f09a4a2-437d-4d54-ebd9-4f9f48c6c8d2"
      },
      "execution_count": 5,
      "outputs": [
        {
          "output_type": "stream",
          "name": "stdout",
          "text": [
            "Instance count: 2, Class count: 3\n",
            "Instance count: 1, Class count: 3\n"
          ]
        }
      ]
    },
    {
      "cell_type": "code",
      "source": [
        "def sum_all(*args):\n",
        "    return sum(args)\n",
        "\n",
        "print(\"Sum of 1, 2, 3 is:\", sum_all(1, 2, 3))\n",
        "print(\"Sum of 4, 5, 6, 7 is:\", sum_all(4, 5, 6, 7))\n"
      ],
      "metadata": {
        "colab": {
          "base_uri": "https://localhost:8080/"
        },
        "id": "ohNmI0E4NroY",
        "outputId": "8bce7624-31a7-40a3-dbfc-b2873691e4ad"
      },
      "execution_count": 7,
      "outputs": [
        {
          "output_type": "stream",
          "name": "stdout",
          "text": [
            "Sum of 1, 2, 3 is: 6\n",
            "Sum of 4, 5, 6, 7 is: 22\n"
          ]
        }
      ]
    },
    {
      "cell_type": "code",
      "source": [
        "def first_word(words):\n",
        "\n",
        "    sorted_words = sorted(words)\n",
        "    first = sorted_words[0]\n",
        "    return first\n",
        "\n",
        "students = ['Mary', 'Zelda', 'Jimmy', 'Jack', 'Bartholomew', 'Gertrube']\n",
        "result = first_word(students)\n",
        "print(result)"
      ],
      "metadata": {
        "colab": {
          "base_uri": "https://localhost:8080/"
        },
        "id": "WoJNF1daPF0B",
        "outputId": "2a1cb896-2e4a-45de-d907-204b6ca288d0"
      },
      "execution_count": 15,
      "outputs": [
        {
          "output_type": "stream",
          "name": "stdout",
          "text": [
            "Bartholomew\n"
          ]
        }
      ]
    },
    {
      "cell_type": "code",
      "source": [
        "class Employee:\n",
        "    employee_count = 0\n",
        "    salary_list = []\n",
        "\n",
        "    def __init__(self, name, family, salary, department):\n",
        "        self.name = name\n",
        "        self.family = family\n",
        "        self.salary = salary\n",
        "        self.department = department\n",
        "\n",
        "        Employee.employee_count += 1\n",
        "        Employee.salary_list.append(salary)\n",
        "\n",
        "    def average_salary(cls):\n",
        "        if cls.salary_list:\n",
        "            return sum(cls.salary_list) / len(cls.salary_list)\n",
        "        return 0\n",
        "\n",
        "    average_salary = classmethod(average_salary)\n",
        "\n",
        "\n",
        "class FulltimeEmployee(Employee):\n",
        "    def __init__(self, name, family, salary, department):\n",
        "        super().__init__(name, family, salary, department)\n",
        "\n",
        "emp1 = Employee(\"John\", \"Smith\", 40000, \"Marketing\")\n",
        "emp2 = Employee(\"Kanye\", \"Thompson\", 50000, \"Finance\")\n",
        "femp1 = FulltimeEmployee(\"Steve\", \"Brown\", 60000, \"Accounting\")\n",
        "\n",
        "print(f\"Total Employees: {Employee.employee_count}\")\n",
        "print(f\"Average Salary: {Employee.average_salary():.2f}\")\n",
        "\n",
        "print(f\"Fulltime Employee: {femp1.name}, {femp1.department}\")\n"
      ],
      "metadata": {
        "colab": {
          "base_uri": "https://localhost:8080/"
        },
        "id": "1jSkWTJ2R4Nc",
        "outputId": "38c7dee2-e306-446d-b040-b0140f20a830"
      },
      "execution_count": 17,
      "outputs": [
        {
          "output_type": "stream",
          "name": "stdout",
          "text": [
            "Total Employees: 3\n",
            "Average Salary: 50000.00\n",
            "Fulltime Employee: Steve, Accounting\n"
          ]
        }
      ]
    }
  ]
}