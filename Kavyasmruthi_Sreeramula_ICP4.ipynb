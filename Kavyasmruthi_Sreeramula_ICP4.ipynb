{
  "nbformat": 4,
  "nbformat_minor": 0,
  "metadata": {
    "colab": {
      "provenance": [],
      "authorship_tag": "ABX9TyMpEyVYRhinHVZwxoCvw4Zu",
      "include_colab_link": true
    },
    "kernelspec": {
      "name": "python3",
      "display_name": "Python 3"
    },
    "language_info": {
      "name": "python"
    }
  },
  "cells": [
    {
      "cell_type": "markdown",
      "metadata": {
        "id": "view-in-github",
        "colab_type": "text"
      },
      "source": [
        "<a href=\"https://colab.research.google.com/github/KavyaSmruthi694/ICP-1/blob/main/Kavyasmruthi_Sreeramula_ICP4.ipynb\" target=\"_parent\"><img src=\"https://colab.research.google.com/assets/colab-badge.svg\" alt=\"Open In Colab\"/></a>"
      ]
    },
    {
      "cell_type": "code",
      "execution_count": null,
      "metadata": {
        "colab": {
          "base_uri": "https://localhost:8080/"
        },
        "id": "BDoBXTjKKSJb",
        "outputId": "e1e69b8b-974e-4d5e-b6d2-8b4e42c430d7"
      },
      "outputs": [
        {
          "output_type": "stream",
          "name": "stdout",
          "text": [
            "First 10 rows of the DataFrame:\n",
            "\n",
            "   ID     Value Category\n",
            "0   1  0.132408        C\n",
            "1   2  0.377564        D\n",
            "2   3  0.231354        D\n",
            "3   4  0.798397        D\n",
            "4   5  0.798891        D\n",
            "5   6  0.630902        B\n",
            "6   7  0.425739        C\n",
            "7   8  0.465347        A\n",
            "8   9  0.203434        A\n",
            "9  10  0.351921        A\n"
          ]
        }
      ],
      "source": [
        "import numpy as np\n",
        "import pandas as pd\n",
        "data = {\n",
        "    'ID': np.arange(1, 1000001),  # 1 million IDs\n",
        "    'Value': np.random.rand(1000000),  # 1 million random values\n",
        "    'Category': np.random.choice(['A', 'B', 'C', 'D'], size=1000000)  # Random categories\n",
        "}\n",
        "\n",
        "df = pd.DataFrame(data)\n",
        "print(\"First 10 rows of the DataFrame:\\n\")\n",
        "print(df.head(10))\n",
        "\n",
        "\n"
      ]
    },
    {
      "cell_type": "code",
      "source": [
        "print(\"\\n'Value' column (first 10 values shown):\\n\")\n",
        "print(df['Value'].head(10))\n"
      ],
      "metadata": {
        "colab": {
          "base_uri": "https://localhost:8080/"
        },
        "id": "ZdsyEZxr6isD",
        "outputId": "c5a54a74-74e1-47db-ed8c-4a9facfc1934"
      },
      "execution_count": null,
      "outputs": [
        {
          "output_type": "stream",
          "name": "stdout",
          "text": [
            "\n",
            "'Value' column (first 10 values shown):\n",
            "\n",
            "0    0.132408\n",
            "1    0.377564\n",
            "2    0.231354\n",
            "3    0.798397\n",
            "4    0.798891\n",
            "5    0.630902\n",
            "6    0.425739\n",
            "7    0.465347\n",
            "8    0.203434\n",
            "9    0.351921\n",
            "Name: Value, dtype: float64\n"
          ]
        }
      ]
    },
    {
      "cell_type": "code",
      "source": [
        "df.columns = ['ID number', 'Random value', 'Choice']\n",
        "print(\"\\n First 5 rows after renaming columns:\\n\")\n",
        "print(df.head(5))"
      ],
      "metadata": {
        "colab": {
          "base_uri": "https://localhost:8080/"
        },
        "id": "bw_RPfdj5Xr-",
        "outputId": "0f504d86-1818-42ac-a9a8-fa86122b55e5"
      },
      "execution_count": null,
      "outputs": [
        {
          "output_type": "stream",
          "name": "stdout",
          "text": [
            "\n",
            " First 5 rows after renaming columns:\n",
            "\n",
            "   ID number  Random value Choice\n",
            "0          1      0.132408      C\n",
            "1          2      0.377564      D\n",
            "2          3      0.231354      D\n",
            "3          4      0.798397      D\n",
            "4          5      0.798891      D\n"
          ]
        }
      ]
    },
    {
      "cell_type": "code",
      "source": [
        "import pandas as pd\n",
        "\n",
        "pd.set_option('display.max_rows', None)\n",
        "student_data = pd.DataFrame({\n",
        "    'school_code': ['s001', 's002', 's003', 's001', 's002', 's004'],\n",
        "    'class': ['V', 'V', 'VI', 'VI', 'V', 'VI'],\n",
        "    'name': ['Alberto Franco', 'Gino Mcneill', 'Ryan Parkes', 'Eesha Hinton', 'Gino Mcneill', 'David Parkes'],\n",
        "    'date_of_birth': ['15/05/2002', '17/05/2002', '16/02/1999', '25/09/1998', '11/05/2002', '15/09/1997'],\n",
        "    'age': [12, 12, 13, 13, 14, 12],\n",
        "    'height': [173, 192, 186, 167, 151, 159],\n",
        "    'weight': [35, 32, 33, 30, 31, 32],\n",
        "    'address': ['street1', 'street2', 'street3', 'street1', 'street2', 'street4']\n",
        "}, index=['S1', 'S2', 'S3', 'S4', 'S5', 'S6'])\n",
        "print(\"Original DataFrame:\\n\")\n",
        "print(student_data)\n",
        "print(\"\\nSplit the said data on 'school_code' and 'class':\\n\")\n",
        "result = student_data.groupby(['school_code', 'class'])\n",
        "for name, group in result:\n",
        "    print(f\"\\nGroup:\")\n",
        "    print(name)\n",
        "    print(group)\n"
      ],
      "metadata": {
        "colab": {
          "base_uri": "https://localhost:8080/"
        },
        "id": "_1selHH6M19p",
        "outputId": "493b4198-672e-453c-d7e0-175224200fa4"
      },
      "execution_count": null,
      "outputs": [
        {
          "output_type": "stream",
          "name": "stdout",
          "text": [
            "Original DataFrame:\n",
            "\n",
            "   school_code class            name date_of_birth  age  height  weight  \\\n",
            "S1        s001     V  Alberto Franco    15/05/2002   12     173      35   \n",
            "S2        s002     V    Gino Mcneill    17/05/2002   12     192      32   \n",
            "S3        s003    VI     Ryan Parkes    16/02/1999   13     186      33   \n",
            "S4        s001    VI    Eesha Hinton    25/09/1998   13     167      30   \n",
            "S5        s002     V    Gino Mcneill    11/05/2002   14     151      31   \n",
            "S6        s004    VI    David Parkes    15/09/1997   12     159      32   \n",
            "\n",
            "    address  \n",
            "S1  street1  \n",
            "S2  street2  \n",
            "S3  street3  \n",
            "S4  street1  \n",
            "S5  street2  \n",
            "S6  street4  \n",
            "\n",
            "Split the said data on 'school_code' and 'class':\n",
            "\n",
            "\n",
            "Group:\n",
            "('s001', 'V')\n",
            "   school_code class            name date_of_birth  age  height  weight  \\\n",
            "S1        s001     V  Alberto Franco    15/05/2002   12     173      35   \n",
            "\n",
            "    address  \n",
            "S1  street1  \n",
            "\n",
            "Group:\n",
            "('s001', 'VI')\n",
            "   school_code class          name date_of_birth  age  height  weight  address\n",
            "S4        s001    VI  Eesha Hinton    25/09/1998   13     167      30  street1\n",
            "\n",
            "Group:\n",
            "('s002', 'V')\n",
            "   school_code class          name date_of_birth  age  height  weight  address\n",
            "S2        s002     V  Gino Mcneill    17/05/2002   12     192      32  street2\n",
            "S5        s002     V  Gino Mcneill    11/05/2002   14     151      31  street2\n",
            "\n",
            "Group:\n",
            "('s003', 'VI')\n",
            "   school_code class         name date_of_birth  age  height  weight  address\n",
            "S3        s003    VI  Ryan Parkes    16/02/1999   13     186      33  street3\n",
            "\n",
            "Group:\n",
            "('s004', 'VI')\n",
            "   school_code class          name date_of_birth  age  height  weight  address\n",
            "S6        s004    VI  David Parkes    15/09/1997   12     159      32  street4\n"
          ]
        }
      ]
    },
    {
      "cell_type": "code",
      "source": [
        "import pandas as pd\n",
        "import matplotlib.pyplot as plt\n",
        "df = pd.read_csv('data.csv')"
      ],
      "metadata": {
        "id": "Uei_6pjj6JZV"
      },
      "execution_count": null,
      "outputs": []
    },
    {
      "cell_type": "code",
      "source": [
        "\n",
        "print(\" Basic Statistical Description:\\n\")\n",
        "print(df.describe())"
      ],
      "metadata": {
        "colab": {
          "base_uri": "https://localhost:8080/"
        },
        "id": "g0neNK1vOok1",
        "outputId": "70ab2d96-d4fe-48d0-81c3-659c2c91851a"
      },
      "execution_count": null,
      "outputs": [
        {
          "output_type": "stream",
          "name": "stdout",
          "text": [
            " Basic Statistical Description:\n",
            "\n",
            "         Duration       Pulse    Maxpulse     Calories\n",
            "count  169.000000  169.000000  169.000000   164.000000\n",
            "mean    63.846154  107.461538  134.047337   375.790244\n",
            "std     42.299949   14.510259   16.450434   266.379919\n",
            "min     15.000000   80.000000  100.000000    50.300000\n",
            "25%     45.000000  100.000000  124.000000   250.925000\n",
            "50%     60.000000  105.000000  131.000000   318.600000\n",
            "75%     60.000000  111.000000  141.000000   387.600000\n",
            "max    300.000000  159.000000  184.000000  1860.400000\n"
          ]
        }
      ]
    },
    {
      "cell_type": "code",
      "source": [
        "print(\"\\n Null Values Check:\\n\")\n",
        "print(df.isnull().sum())\n"
      ],
      "metadata": {
        "colab": {
          "base_uri": "https://localhost:8080/"
        },
        "id": "pRkNwvbNOwxT",
        "outputId": "49c600a2-5b1b-4922-cf60-b09dd1c33984"
      },
      "execution_count": null,
      "outputs": [
        {
          "output_type": "stream",
          "name": "stdout",
          "text": [
            "\n",
            " Null Values Check:\n",
            "\n",
            "Duration    0\n",
            "Pulse       0\n",
            "Maxpulse    0\n",
            "Calories    5\n",
            "dtype: int64\n"
          ]
        }
      ]
    },
    {
      "cell_type": "code",
      "source": [
        "df.fillna(df.mean(numeric_only=True), inplace=True)\n",
        "print(\"\\n Null Values After Replacing with Mean:\\n\")\n",
        "print(df.isnull().sum())"
      ],
      "metadata": {
        "colab": {
          "base_uri": "https://localhost:8080/"
        },
        "id": "t9-lGOjNO0Kd",
        "outputId": "54f26f0a-10b6-40cc-e7b9-b2663ceb5e73"
      },
      "execution_count": null,
      "outputs": [
        {
          "output_type": "stream",
          "name": "stdout",
          "text": [
            "\n",
            " Null Values After Replacing with Mean:\n",
            "\n",
            "Duration    0\n",
            "Pulse       0\n",
            "Maxpulse    0\n",
            "Calories    0\n",
            "dtype: int64\n"
          ]
        }
      ]
    },
    {
      "cell_type": "code",
      "source": [
        "print(\"\\nAggregated Stats for 'Duration' and 'Calories':\\n\")\n",
        "aggregated = df[['Duration', 'Calories']].agg(['min', 'max', 'count', 'mean'])\n",
        "print(aggregated)"
      ],
      "metadata": {
        "colab": {
          "base_uri": "https://localhost:8080/"
        },
        "id": "5D7SygsYO7p9",
        "outputId": "a11d23b9-beca-49fa-8364-5eefe641847a"
      },
      "execution_count": null,
      "outputs": [
        {
          "output_type": "stream",
          "name": "stdout",
          "text": [
            "\n",
            "Aggregated Stats for 'Duration' and 'Calories':\n",
            "\n",
            "         Duration     Calories\n",
            "min     15.000000    50.300000\n",
            "max    300.000000  1860.400000\n",
            "count  169.000000   169.000000\n",
            "mean    63.846154   375.790244\n"
          ]
        }
      ]
    },
    {
      "cell_type": "code",
      "source": [
        "filtered_500_1000 = df[df['Calories'].between(500, 1000)]\n",
        "print(\"\\n Filtered rows with Calories between 500 and 1000:\\n\")\n",
        "print(filtered_500_1000)"
      ],
      "metadata": {
        "colab": {
          "base_uri": "https://localhost:8080/"
        },
        "id": "YQZlwZk8PRXW",
        "outputId": "6c008f63-b5f1-4647-eb50-428226a8b60b"
      },
      "execution_count": null,
      "outputs": [
        {
          "output_type": "stream",
          "name": "stdout",
          "text": [
            "\n",
            " Filtered rows with Calories between 500 and 1000:\n",
            "\n",
            "     Duration  Pulse  Maxpulse  Calories\n",
            "51         80    123       146     643.1\n",
            "62        160    109       135     853.0\n",
            "65        180     90       130     800.4\n",
            "66        150    105       135     873.4\n",
            "67        150    107       130     816.0\n",
            "72         90    100       127     700.0\n",
            "73        150     97       127     953.2\n",
            "75         90     98       125     563.2\n",
            "78        120    100       130     500.4\n",
            "83        120    100       130     500.0\n",
            "90        180    101       127     600.1\n",
            "99         90     93       124     604.1\n",
            "101        90     90       110     500.0\n",
            "102        90     90       100     500.0\n",
            "103        90     90       100     500.4\n",
            "106       180     90       120     800.3\n",
            "108        90     90       120     500.3\n"
          ]
        }
      ]
    },
    {
      "cell_type": "code",
      "source": [
        "filtered_combo = df[(df['Calories'] > 500) & (df['Pulse'] < 100)]\n",
        "print(\"\\n selected Rows with Calories > 500 and Pulse < 100:\\n\")\n",
        "print(filtered_combo)"
      ],
      "metadata": {
        "colab": {
          "base_uri": "https://localhost:8080/"
        },
        "id": "lE4GKi15PV1C",
        "outputId": "ebc44c02-eb3a-475d-9d03-accf672327d5"
      },
      "execution_count": null,
      "outputs": [
        {
          "output_type": "stream",
          "name": "stdout",
          "text": [
            "\n",
            " selected Rows with Calories > 500 and Pulse < 100:\n",
            "\n",
            "     Duration  Pulse  Maxpulse  Calories\n",
            "65        180     90       130     800.4\n",
            "70        150     97       129    1115.0\n",
            "73        150     97       127     953.2\n",
            "75         90     98       125     563.2\n",
            "99         90     93       124     604.1\n",
            "103        90     90       100     500.4\n",
            "106       180     90       120     800.3\n",
            "108        90     90       120     500.3\n"
          ]
        }
      ]
    },
    {
      "cell_type": "code",
      "source": [
        "df_modified = df.drop('Maxpulse', axis=1)\n",
        "print(\"\\nDataFrame without 'Maxpulse':\\n\", df_modified.head())"
      ],
      "metadata": {
        "colab": {
          "base_uri": "https://localhost:8080/"
        },
        "id": "C2iyOdXC5afq",
        "outputId": "a1a98e36-be27-4a1d-bf48-33855f1ac9f1"
      },
      "execution_count": null,
      "outputs": [
        {
          "output_type": "stream",
          "name": "stdout",
          "text": [
            "\n",
            "DataFrame without 'Maxpulse':\n",
            "    Duration  Pulse  Calories\n",
            "0        60    110     409.1\n",
            "1        60    117     479.0\n",
            "2        60    103     340.0\n",
            "3        45    109     282.4\n",
            "4        45    117     406.0\n"
          ]
        }
      ]
    },
    {
      "cell_type": "code",
      "source": [
        "df.drop('Maxpulse', axis=1, inplace=True)\n",
        "print(\"\\nOriginal DataFrame after deleting 'Maxpulse':\\n\", df.head())"
      ],
      "metadata": {
        "colab": {
          "base_uri": "https://localhost:8080/"
        },
        "id": "lj0oWG4r5sl2",
        "outputId": "568d87b6-b62d-49eb-ad20-abffbe10883b"
      },
      "execution_count": null,
      "outputs": [
        {
          "output_type": "stream",
          "name": "stdout",
          "text": [
            "\n",
            "Original DataFrame after deleting 'Maxpulse':\n",
            "    Duration  Pulse  Calories\n",
            "0        60    110     409.1\n",
            "1        60    117     479.0\n",
            "2        60    103     340.0\n",
            "3        45    109     282.4\n",
            "4        45    117     406.0\n"
          ]
        }
      ]
    },
    {
      "cell_type": "code",
      "source": [
        "df['Calories'] = df['Calories'].astype(int)\n",
        "print(\"\\n'Calories' converted to int:\\n\", df.dtypes)"
      ],
      "metadata": {
        "colab": {
          "base_uri": "https://localhost:8080/"
        },
        "id": "6yHwao_65vGa",
        "outputId": "1882bfec-8531-4b9e-8144-a1387c542ecc"
      },
      "execution_count": null,
      "outputs": [
        {
          "output_type": "stream",
          "name": "stdout",
          "text": [
            "\n",
            "'Calories' converted to int:\n",
            " Duration    int64\n",
            "Pulse       int64\n",
            "Calories    int64\n",
            "dtype: object\n"
          ]
        }
      ]
    },
    {
      "cell_type": "code",
      "source": [
        "plt.scatter(df['Duration'], df['Calories'], color='green')\n",
        "plt.title('Duration vs Calories')\n",
        "plt.xlabel('Duration')\n",
        "plt.ylabel('Calories')\n",
        "plt.grid(True)\n",
        "plt.show()"
      ],
      "metadata": {
        "colab": {
          "base_uri": "https://localhost:8080/",
          "height": 472
        },
        "id": "wlPj9dPt6YDV",
        "outputId": "d85881be-125d-4cc2-e4af-f3ee8611253c"
      },
      "execution_count": null,
      "outputs": [
        {
          "output_type": "display_data",
          "data": {
            "text/plain": [
              "<Figure size 640x480 with 1 Axes>"
            ],
            "image/png": "[encoded data removed]"
          },
          "metadata": {}
        }
      ]
    }
  ]
}